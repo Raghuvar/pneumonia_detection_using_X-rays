{
 "cells": [
  {
   "cell_type": "code",
   "execution_count": 1,
   "metadata": {},
   "outputs": [],
   "source": [
    "import os\n",
    "import tarfile\n",
    "\n",
    "def recursive_files(dir_name='.', ignore=None):\n",
    "    for dir_name,subdirs,files in os.walk(dir_name):\n",
    "        if ignore and os.path.basename(dir_name) in ignore:\n",
    "            continue\n",
    "\n",
    "        for file_name in files:\n",
    "            if ignore and file_name in ignore:\n",
    "                continue\n",
    "\n",
    "            yield os.path.join(dir_name, file_name)\n",
    "\n",
    "def make_tar_file(dir_name='.', target_file_name='workspace_archive.tar', ignore=None):\n",
    "    tar = tarfile.open(target_file_name, 'w')\n",
    "\n",
    "    for file_name in recursive_files(dir_name, ignore):\n",
    "        tar.add(file_name)\n",
    "\n",
    "    tar.close()\n",
    "\n",
    "\n",
    "dir_name = '.'\n",
    "target_file_name = 'workspace_archive.tar'\n",
    "# List of files/directories to ignore\n",
    "ignore = {'.ipynb_checkpoints', '__pycache__', target_file_name}\n",
    "\n",
    "make_tar_file(dir_name, target_file_name, ignore)"
   ]
  },
  {
   "cell_type": "code",
   "execution_count": 4,
   "metadata": {},
   "outputs": [
    {
     "name": "stdout",
     "output_type": "stream",
     "text": [
      "updating: Build and train model.ipynb (deflated 26%)\n",
      "updating: EDA.ipynb (deflated 32%)\n",
      "updating: FDA_Submission..pdf (deflated 17%)\n",
      "updating: FDA_Submission_Template.md (deflated 60%)\n",
      "updating: Inference.ipynb (deflated 25%)\n",
      "updating: age_bins.png (deflated 23%)\n",
      "updating: age_distribution.png (deflated 25%)\n",
      "updating: auc-plot.png (deflated 25%)\n",
      "updating: disease_dist.png (deflated 14%)\n",
      "updating: downloader.ipynb (deflated 77%)\n",
      "updating: gender-ditr.png (deflated 6%)\n",
      "updating: images/ (stored 0%)\n",
      "updating: images/vgg16.png (deflated 1%)\n",
      "updating: images/age_distribution.png (deflated 25%)\n",
      "updating: images/age_bins.png (deflated 23%)\n",
      "updating: images/auc-plot.png (deflated 25%)\n",
      "updating: images/loss-acc.png (deflated 3%)\n",
      "updating: images/position.png (deflated 6%)\n",
      "updating: images/gender-ditr.png (deflated 6%)\n",
      "updating: images/disease_dist.png (deflated 14%)\n",
      "updating: images/pr-plot.png (deflated 10%)\n",
      "updating: loass-acc.png (deflated 3%)\n",
      "updating: my_model.json (deflated 92%)\n",
      "updating: position.png (deflated 6%)\n",
      "updating: pr-plot.png (deflated 10%)\n",
      "updating: sample_labels.csv (deflated 85%)\n",
      "updating: test1.dcm (deflated 38%)\n",
      "updating: test2.dcm (deflated 26%)\n",
      "updating: test3.dcm (deflated 31%)\n",
      "updating: test4.dcm (deflated 38%)\n",
      "updating: test5.dcm (deflated 38%)\n",
      "updating: test6.dcm (deflated 38%)\n",
      "updating: xray_class_my_model.best.hdf5 (deflated 7%)\n"
     ]
    }
   ],
   "source": [
    "!zip -r pneumonia_detection.zip *"
   ]
  },
  {
   "cell_type": "code",
   "execution_count": 5,
   "metadata": {},
   "outputs": [
    {
     "name": "stdout",
     "output_type": "stream",
     "text": [
      "total 183432\r\n",
      "-rw-r--r-- 1 root root  1049354 Mar 21 19:38  test6.dcm\r\n",
      "-rw-r--r-- 1 root root  1049356 Mar 21 19:38  test4.dcm\r\n",
      "-rw-r--r-- 1 root root  1049354 Mar 21 19:38  test5.dcm\r\n",
      "-rw-r--r-- 1 root root  1049352 Mar 21 19:38  test3.dcm\r\n",
      "-rw-r--r-- 1 root root  1049356 Mar 21 19:38  test2.dcm\r\n",
      "-rw-r--r-- 1 root root  1049354 Mar 21 19:38  test1.dcm\r\n",
      "-rw-r--r-- 1 root root   432125 Mar 21 20:33  sample_labels.csv\r\n",
      "-rw-r--r-- 1 root root 84993624 May 12 03:53  xray_class_my_model.best.hdf5\r\n",
      "-rw-r--r-- 1 root root    20422 May 12 03:54  pr-plot.png\r\n",
      "-rw-r--r-- 1 root root    35615 May 12 03:54  loass-acc.png\r\n",
      "-rw-r--r-- 1 root root    13468 May 12 03:54  auc-plot.png\r\n",
      "-rw-r--r-- 1 root root    12538 May 12 04:05  my_model.json\r\n",
      "-rw-r--r-- 1 root root    14892 May 12 04:59  age_distribution.png\r\n",
      "-rw-r--r-- 1 root root    27241 May 12 05:01  age_bins.png\r\n",
      "-rw-r--r-- 1 root root    15993 May 12 05:04  gender-ditr.png\r\n",
      "-rw-r--r-- 1 root root    16256 May 12 05:05  position.png\r\n",
      "-rw-r--r-- 1 root root    17843 May 12 05:26  disease_dist.png\r\n",
      "-rw-r--r-- 1 root root   787119 May 12 05:36  EDA.ipynb\r\n",
      "-rw-r--r-- 1 root root  3046372 May 12 05:54 'Build and train model.ipynb'\r\n",
      "drwxr-xr-x 2 root root     4096 May 12 06:04  images\r\n",
      "-rw-r--r-- 1 root root     6981 May 12 06:05  FDA_Submission_Template.md\r\n",
      "-rw-r--r-- 1 root root   478092 May 12 06:10  FDA_Submission..pdf\r\n",
      "-rw-r--r-- 1 root root   337413 May 12 06:19  Inference.ipynb\r\n",
      "-rw-r--r-- 1 root root 90990396 May 12 06:24  pneumonia_detection.zip\r\n",
      "-rw-r--r-- 1 root root     5917 May 12 06:24  downloader.ipynb\r\n"
     ]
    }
   ],
   "source": [
    "!ls -ltr"
   ]
  },
  {
   "cell_type": "code",
   "execution_count": null,
   "metadata": {},
   "outputs": [],
   "source": []
  }
 ],
 "metadata": {
  "kernelspec": {
   "display_name": "Python 3",
   "language": "python",
   "name": "python3"
  },
  "language_info": {
   "codemirror_mode": {
    "name": "ipython",
    "version": 3
   },
   "file_extension": ".py",
   "mimetype": "text/x-python",
   "name": "python",
   "nbconvert_exporter": "python",
   "pygments_lexer": "ipython3",
   "version": "3.7.6"
  }
 },
 "nbformat": 4,
 "nbformat_minor": 4
}
